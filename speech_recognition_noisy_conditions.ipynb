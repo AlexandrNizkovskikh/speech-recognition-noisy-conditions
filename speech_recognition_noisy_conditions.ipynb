{
  "nbformat": 4,
  "nbformat_minor": 0,
  "metadata": {
    "colab": {
      "provenance": []
    },
    "kernelspec": {
      "name": "python3",
      "display_name": "Python 3"
    },
    "language_info": {
      "name": "python"
    }
  },
  "cells": [
    {
      "cell_type": "code",
      "source": [
        "# Установка Python-библиотек\n",
        "!pip install -q nltk python-Levenshtein SpeechRecognition pydub > /dev/null"
      ],
      "metadata": {
        "id": "qs2f1LjaXwd2"
      },
      "execution_count": null,
      "outputs": []
    },
    {
      "cell_type": "markdown",
      "source": [
        "# Импорт библиотек"
      ],
      "metadata": {
        "id": "xnN0K5W0K0yH"
      }
    },
    {
      "cell_type": "code",
      "source": [
        "import speech_recognition as sr\n",
        "import requests\n",
        "import io\n",
        "from pydub.generators import WhiteNoise\n",
        "from pydub import AudioSegment\n",
        "from IPython.display import Audio\n",
        "import pandas as pd\n",
        "import warnings\n",
        "from nltk.translate.bleu_score import sentence_bleu\n",
        "import Levenshtein\n",
        "warnings.filterwarnings(\"ignore\")"
      ],
      "metadata": {
        "id": "V-LmkaqZE-6z"
      },
      "execution_count": null,
      "outputs": []
    },
    {
      "cell_type": "markdown",
      "source": [
        "# Загрузка аудиофайлов"
      ],
      "metadata": {
        "id": "08OExu0WKZlf"
      }
    },
    {
      "cell_type": "code",
      "source": [
        "# Список URL аудиофайлов\n",
        "audio_urls = [\n",
        "    \"https://storage.yandexcloud.net/datasetsforme/Voice01.mp3\",\n",
        "    \"https://storage.yandexcloud.net/datasetsforme/nash-chelovek.mp3\",\n",
        "    \"https://storage.yandexcloud.net/datasetsforme/petrosja.mp3\",\n",
        "    \"https://storage.yandexcloud.net/datasetsforme/vyfvyf.mp3\",\n",
        "    \"https://storage.yandexcloud.net/datasetsforme/Voice02.mp3\"\n",
        "]"
      ],
      "metadata": {
        "id": "EAb7AlNqKcHl"
      },
      "execution_count": null,
      "outputs": []
    },
    {
      "cell_type": "code",
      "source": [
        "# Функция загрузки и конвертации аудио\n",
        "def download_and_convert_audio(url):\n",
        "    response = requests.get(url)\n",
        "    response.raise_for_status()\n",
        "    audio_file = io.BytesIO(response.content)\n",
        "    audio = AudioSegment.from_mp3(audio_file)\n",
        "    return audio"
      ],
      "metadata": {
        "id": "poqaZeYaKwjg"
      },
      "execution_count": null,
      "outputs": []
    },
    {
      "cell_type": "code",
      "source": [
        "# Загрузка всех аудиофайлов\n",
        "clean_audios = []\n",
        "for url in audio_urls:\n",
        "\n",
        "    audio = download_and_convert_audio(url)\n",
        "    clean_audios.append(audio)\n",
        "    print(f\"Файл успешно загружен: {url.split('/')[-1]}\")"
      ],
      "metadata": {
        "id": "-59-rPpUKxnD"
      },
      "execution_count": null,
      "outputs": []
    },
    {
      "cell_type": "markdown",
      "source": [
        "# Воспроизведение аудиофайлов"
      ],
      "metadata": {
        "id": "jyDDdQgcLQH_"
      }
    },
    {
      "cell_type": "code",
      "source": [
        "from IPython.display import Audio\n",
        "\n",
        "# Вывод чистого аудио\n",
        "clean_audios = []\n",
        "for idx, url in enumerate(audio_urls):\n",
        "    audio = download_and_convert_audio(url)\n",
        "    clean_audios.append(audio)\n",
        "    print(f\"Чистый файл {idx + 1}:\")\n",
        "    display(Audio(audio.export(format=\"wav\").read(), rate=audio.frame_rate))"
      ],
      "metadata": {
        "id": "0VzGGhZzLAnv"
      },
      "execution_count": null,
      "outputs": []
    },
    {
      "cell_type": "markdown",
      "source": [
        "# Добавление шума"
      ],
      "metadata": {
        "id": "Ayq8IhFaLT_z"
      }
    },
    {
      "cell_type": "code",
      "source": [
        "# Добавление шума\n",
        "def add_noise(audio, noise_level=-20):\n",
        "    noise = WhiteNoise().to_audio_segment(duration=len(audio), volume=noise_level)\n",
        "    return audio.overlay(noise)"
      ],
      "metadata": {
        "id": "8yY4BDfKLVIQ"
      },
      "execution_count": null,
      "outputs": []
    },
    {
      "cell_type": "code",
      "source": [
        "noisy_audios = [add_noise(audio) for audio in clean_audios]"
      ],
      "metadata": {
        "id": "x2h3-WeSMRE3"
      },
      "execution_count": null,
      "outputs": []
    },
    {
      "cell_type": "code",
      "source": [
        "# Вывод зашумленного аудио\n",
        "for idx, noisy_audio in enumerate(noisy_audios):\n",
        "    print(f\"Зашумленный файл {idx + 1}:\")\n",
        "    display(Audio(noisy_audio.export(format=\"wav\").read(), rate=noisy_audio.frame_rate))"
      ],
      "metadata": {
        "id": "QKo_lU9BLYnf"
      },
      "execution_count": null,
      "outputs": []
    },
    {
      "cell_type": "markdown",
      "source": [
        "# Распознование текста из аудиофайлов"
      ],
      "metadata": {
        "id": "iaJXwBqOLukL"
      }
    },
    {
      "cell_type": "code",
      "source": [
        "recognizer = sr.Recognizer()"
      ],
      "metadata": {
        "id": "0kNCmDV8LuG7"
      },
      "execution_count": null,
      "outputs": []
    },
    {
      "cell_type": "code",
      "source": [
        "# Распознавание текста\n",
        "def recognize_audio(audio):\n",
        "    wav_io = io.BytesIO()\n",
        "    audio.export(wav_io, format=\"wav\")\n",
        "    wav_io.seek(0)\n",
        "    with sr.AudioFile(wav_io) as source:\n",
        "        audio_data = recognizer.record(source)\n",
        "    return recognizer.recognize_google(audio_data, language=\"ru-RU\")"
      ],
      "metadata": {
        "id": "qgU425egLskr"
      },
      "execution_count": null,
      "outputs": []
    },
    {
      "cell_type": "code",
      "source": [
        "recognized_texts_clean = []\n",
        "recognized_texts_noisy = []"
      ],
      "metadata": {
        "id": "nyxnM9v1LzLL"
      },
      "execution_count": null,
      "outputs": []
    },
    {
      "cell_type": "code",
      "source": [
        "for idx, (clean_audio, noisy_audio) in enumerate(zip(clean_audios, noisy_audios)):\n",
        "    print(f\"\\nРаспознавание файла {idx + 1}:\")\n",
        "\n",
        "    clean_text = recognize_audio(clean_audio)\n",
        "    print(f\"Чистый текст: \\n{clean_text}\\n\")\n",
        "    recognized_texts_clean.append(clean_text)\n",
        "\n",
        "    noisy_text = recognize_audio(noisy_audio)\n",
        "    print(f\"Зашумленный текст: \\n{noisy_text}\")\n",
        "    recognized_texts_noisy.append(noisy_text)"
      ],
      "metadata": {
        "id": "F0pGBlwRL0Zh"
      },
      "execution_count": null,
      "outputs": []
    },
    {
      "cell_type": "markdown",
      "source": [
        "# Метрики оценки"
      ],
      "metadata": {
        "id": "H1wVmjQ5OB2P"
      }
    },
    {
      "cell_type": "markdown",
      "source": [
        "WER (коэффициент ошибок на уровне слов) измеряет количество ошибок, сделанных при распознавании текста, относительно эталонного текста. Ошибки включают:\n",
        "\n",
        "* Substitutions (замены): слово в гипотезе отличается от соответствующего слова в эталоне.\n",
        "* Deletions (удаления): слово отсутствует в гипотезе, но присутствует в эталоне.\n",
        "* Insertions (вставки): лишнее слово в гипотезе, отсутствующее в эталоне.\n",
        "\n",
        "WER полезен для оценки точности распознавания речи на уровне слов. Особенно подходит, если важны структурные и лексические совпадения."
      ],
      "metadata": {
        "id": "5fc9RUkWU6N-"
      }
    },
    {
      "cell_type": "code",
      "source": [
        "def calculate_wer(reference, hypothesis):\n",
        "    ref_words = reference.split()\n",
        "    hyp_words = hypothesis.split()\n",
        "    substitutions = sum(1 for r, h in zip(ref_words, hyp_words) if r != h)\n",
        "    deletions = max(0, len(ref_words) - len(hyp_words))\n",
        "    insertions = max(0, len(hyp_words) - len(ref_words))\n",
        "    wer = (substitutions + deletions + insertions) / len(ref_words) if ref_words else 1.0\n",
        "    return wer"
      ],
      "metadata": {
        "id": "358W1MqiODHY"
      },
      "execution_count": null,
      "outputs": []
    },
    {
      "cell_type": "markdown",
      "source": [
        "BLEU (метрика для оценки машинного перевода) измеряет сходство между гипотезой (распознанным текстом) и эталонным текстом. Она основана на совпадениях n-грамм (последовательностей слов) между текстами\n",
        "\n",
        "BLEU полезен, если требуется оценить общее сходство текстов, особенно для длинных предложений, где важны совпадения фраз, но плохо работает для коротких текстов, где n-граммы не могут быть репрезентативными"
      ],
      "metadata": {
        "id": "BXaYKZkKVJcT"
      }
    },
    {
      "cell_type": "code",
      "source": [
        "def calculate_bleu(reference, hypothesis):\n",
        "    ref = [reference.split()]  # Эталонный текст в виде списка\n",
        "    hyp = hypothesis.split()   # Распознанный текст в виде списка\n",
        "    score = sentence_bleu(ref, hyp)\n",
        "    return score"
      ],
      "metadata": {
        "id": "DmeqCAb9Ta8x"
      },
      "execution_count": null,
      "outputs": []
    },
    {
      "cell_type": "markdown",
      "source": [
        "Расстояние Левенштейна измеряет минимальное количество операций редактирования, необходимых для преобразования одного текста в другой. Эти операции включают:\n",
        "\n",
        "* Вставка (insertion): добавление символа.\n",
        "* Удаление (deletion): удаление символа.\n",
        "* Замена (substitution): замена одного символа на другой.\n",
        "\n",
        "Levenshtein Distance полезен для оценки точности распознавания текста, особенно если важен учёт мелких изменений (например, пропущенные буквы, лишние пробелы и т.п.).\n",
        "\n",
        "Метрика не учитывает смысл текста, только буквальные различия. Например, синонимы или перестановка слов могут быть ошибочно посчитаны за значительные изменения."
      ],
      "metadata": {
        "id": "USNXBG8UWo1m"
      }
    },
    {
      "cell_type": "code",
      "source": [
        "def calculate_levenshtein(reference, hypothesis):\n",
        "    return Levenshtein.distance(reference, hypothesis)"
      ],
      "metadata": {
        "id": "lRjTjPG0Tf6V"
      },
      "execution_count": null,
      "outputs": []
    },
    {
      "cell_type": "markdown",
      "source": [
        "CER (коэффициент ошибок на уровне символов) измеряет долю ошибок, допущенных при преобразовании эталонного текста в гипотезу. Ошибки включают:\n",
        "\n",
        "* Substitutions (замены): символ в гипотезе отличается от соответствующего символа в эталоне.\n",
        "* Deletions (удаления): символ присутствует в эталоне, но отсутствует в гипотезе.\n",
        "* Insertions (вставки): лишний символ присутствует в гипотезе, но отсутствует в эталоне.\n",
        "\n",
        "CER полезен для оценки качества текста на уровне символов. Это особенно актуально для языков с фиксированным написанием слов (например, для кодов, чисел или технических терминов)\n",
        "\n",
        " Но CER не учитывает контекст и может неадекватно оценивать качество, если есть большие перестановки текста или смысловые синонимы."
      ],
      "metadata": {
        "id": "zmQlPJbrWyWg"
      }
    },
    {
      "cell_type": "code",
      "source": [
        "def calculate_cer(reference, hypothesis):\n",
        "    ref_chars = list(reference)\n",
        "    hyp_chars = list(hypothesis)\n",
        "    substitutions = sum(1 for r, h in zip(ref_chars, hyp_chars) if r != h)\n",
        "    deletions = max(0, len(ref_chars) - len(hyp_chars))\n",
        "    insertions = max(0, len(hyp_chars) - len(ref_chars))\n",
        "    cer = (substitutions + deletions + insertions) / len(ref_chars) if ref_chars else 1.0\n",
        "    return cer"
      ],
      "metadata": {
        "id": "nuRBooirOg6q"
      },
      "execution_count": null,
      "outputs": []
    },
    {
      "cell_type": "code",
      "source": [
        "wer = calculate_wer(clean_text, noisy_text)\n",
        "cer = calculate_cer(clean_text, noisy_text)\n",
        "bleu = calculate_bleu(clean_text, noisy_text)\n",
        "levenshtein = calculate_levenshtein(clean_text, noisy_text)"
      ],
      "metadata": {
        "id": "0JoaFi0TOidO"
      },
      "execution_count": null,
      "outputs": []
    },
    {
      "cell_type": "code",
      "source": [
        "# Сбор результатов в виде словаря для трансформации\n",
        "results = {\n",
        "    \"Метрика\": [\"WER\", \"CER\", \"BLEU\", \"Levenshtein\"],\n",
        "}\n",
        "\n",
        "# Заполнение данных для каждого файла\n",
        "for idx, file_name in enumerate(audio_urls):\n",
        "    clean_text = recognized_texts_clean[idx]\n",
        "    noisy_text = recognized_texts_noisy[idx]\n",
        "\n",
        "    # Расчёт метрик\n",
        "    wer = calculate_wer(clean_text, noisy_text)\n",
        "    cer = calculate_cer(clean_text, noisy_text)\n",
        "    bleu = calculate_bleu(clean_text, noisy_text)\n",
        "    levenshtein = calculate_levenshtein(clean_text, noisy_text)\n",
        "\n",
        "    # Добавление данных по файлу\n",
        "    results[file_name.split('/')[-1]] = [round(wer, 2), round(cer, 2), round(bleu, 2), round(levenshtein, 2)]"
      ],
      "metadata": {
        "id": "TRzq_TzSOmnB"
      },
      "execution_count": null,
      "outputs": []
    },
    {
      "cell_type": "code",
      "source": [
        "# Преобразование результатов в DataFrame\n",
        "df_results = pd.DataFrame(results)\n",
        "\n",
        "# Вывод таблицы\n",
        "print(df_results.to_string(index=False))"
      ],
      "metadata": {
        "id": "vLK3-utHSpPa"
      },
      "execution_count": null,
      "outputs": []
    },
    {
      "cell_type": "markdown",
      "source": [
        "# Интерпретация метрик\n",
        "\n",
        "1. **Voice01.mp3**:\n",
        "   - **WER (0.88)** и **CER (0.76)**: Высокие значения ошибок — распознавание текста сильно искажено.\n",
        "   - **BLEU (0.00)**: Совпадение с эталоном отсутствует.\n",
        "   - **Levenshtein (29.00)**: Множество изменений требуется для совпадения.\n",
        "\n",
        "2. **nash-chelovek.mp3**:\n",
        "   - **WER (0.07)** и **CER (0.19)**: Очень низкие ошибки — текст почти идеален.\n",
        "   - **BLEU (0.87)**: Высокая схожесть с эталоном.\n",
        "   - **Levenshtein (8.00)**: Минимальные исправления.\n",
        "\n",
        "3. **petrosja.mp3**:\n",
        "   - **WER (0.87)** и **CER (0.85)**: Ошибки почти повсеместны.\n",
        "   - **BLEU (0.59)**: Умеренная схожесть с эталоном.\n",
        "   - **Levenshtein (178.00)**: Требуется огромное количество правок.\n",
        "\n",
        "4. **vyfvyf.mp3**:\n",
        "   - **WER (0.87)** и **CER (0.96)**: Практически полное расхождение.\n",
        "   - **BLEU (0.55)**: Средний уровень совпадения.\n",
        "   - **Levenshtein (22.00)**: Много исправлений, но меньше, чем у **petrosja.mp3**.\n",
        "\n",
        "5. **Voice02.mp3**:\n",
        "   - **WER (0.08)** и **CER (0.42)**: Низкие ошибки (особенно WER), текст хорошо распознан.\n",
        "   - **BLEU (0.76)**: Высокая схожесть с эталоном.\n",
        "   - **Levenshtein (2.00)**: Минимальное количество правок.\n",
        "\n",
        "**Вывод**: Лучшие результаты у **nash-chelovek.mp3** и **Voice02.mp3**. Худшие — у **petrosja.mp3** и **vyfvyf.mp3**.\n"
      ],
      "metadata": {
        "id": "kSD8HmPxZBlM"
      }
    }
  ]
}